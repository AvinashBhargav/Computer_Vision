{
 "cells": [
  {
   "cell_type": "code",
   "execution_count": null,
   "metadata": {},
   "outputs": [
    {
     "name": "stdout",
     "output_type": "stream",
     "text": [
      "Predicted Outputs:\n",
      "[[0.03240538]\n",
      " [0.95492537]\n",
      " [0.95145085]\n",
      " [0.05239769]]\n"
     ]
    }
   ],
   "source": [
    "import numpy as np\n",
    "\n",
    "def sigmoid(x):\n",
    "    return 1 / (1 + np.exp(-x))\n",
    "\n",
    "def sigmoid_derivative(x):\n",
    "    return x * (1 - x)\n",
    "\n",
    "class NeuralNetwork:\n",
    "    def __init__(self, X, y, hidden_size):\n",
    "        self.input_size = X.shape[1]\n",
    "        self.hidden_size = hidden_size\n",
    "        self.output_size = y.shape[1]\n",
    "\n",
    "        # Giving weights randomly\n",
    "        self.W1 = np.random.randn(self.input_size, self.hidden_size)\n",
    "        self.b1 = np.zeros((1, self.hidden_size))\n",
    "        self.W2 = np.random.randn(self.hidden_size, self.output_size)\n",
    "        self.b2 = np.zeros((1, self.output_size))\n",
    "\n",
    "    def feedforward(self, X):\n",
    "        self.z2 = np.dot(X, self.W1) + self.b1\n",
    "        self.a2 = sigmoid(self.z2)\n",
    "        self.z3 = np.dot(self.a2, self.W2) + self.b2\n",
    "        self.y_hat = sigmoid(self.z3)\n",
    "        return self.y_hat\n",
    "\n",
    "    def backward_propagation(self, X, y, learning_rate):\n",
    "        delta3 = (self.y_hat - y) * sigmoid_derivative(self.y_hat)\n",
    "        dJdW2 = np.dot(self.a2.T, delta3)\n",
    "        dJdb2 = np.sum(delta3, axis=0, keepdims=True)\n",
    "\n",
    "        delta2 = np.dot(delta3, self.W2.T) * sigmoid_derivative(self.a2)\n",
    "        dJdW1 = np.dot(X.T, delta2)\n",
    "        dJdb1 = np.sum(delta2, axis=0, keepdims=True)\n",
    "\n",
    "        # Update weights and bias\n",
    "        self.W1 -= learning_rate * dJdW1\n",
    "        self.b1 -= learning_rate * dJdb1\n",
    "        self.W2 -= learning_rate * dJdW2\n",
    "        self.b2 -= learning_rate * dJdb2\n",
    "\n",
    "    def train(self, X, y, epochs, learning_rate):\n",
    "        for epoch in range(epochs):\n",
    "            self.feedforward(X)\n",
    "            self.backward_propagation(X, y, learning_rate)\n",
    "\n",
    "# Example usage\n",
    "# Assuming you have training data X and y\n",
    "X = np.array([[0, 0], [0, 1], [1, 0], [1, 1]])\n",
    "y = np.array([[0], [1], [1], [0]])\n",
    "\n",
    "nn = NeuralNetwork(X, y, 4)  # Adjust hidden size as needed\n",
    "nn.train(X, y, 10000, 0.1)\n",
    "\n",
    "\n",
    "predictions = nn.feedforward(X)\n",
    "print(\"Predicted Outputs:\")\n",
    "print(predictions)"
   ]
  }
 ],
 "metadata": {
  "kernelspec": {
   "display_name": "cv_live",
   "language": "python",
   "name": "python3"
  },
  "language_info": {
   "codemirror_mode": {
    "name": "ipython",
    "version": 3
   },
   "file_extension": ".py",
   "mimetype": "text/x-python",
   "name": "python",
   "nbconvert_exporter": "python",
   "pygments_lexer": "ipython3",
   "version": "3.11.10"
  }
 },
 "nbformat": 4,
 "nbformat_minor": 2
}
