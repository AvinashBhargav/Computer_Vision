{
 "cells": [
  {
   "cell_type": "code",
   "execution_count": 2,
   "metadata": {},
   "outputs": [
    {
     "name": "stdout",
     "output_type": "stream",
     "text": [
      "2.5.1\n",
      "True\n"
     ]
    }
   ],
   "source": [
    "import torch\n",
    "print(torch.__version__) \n",
    "print(torch.cuda.is_available()) \n"
   ]
  },
  {
   "cell_type": "code",
   "execution_count": 3,
   "metadata": {},
   "outputs": [
    {
     "name": "stdout",
     "output_type": "stream",
     "text": [
      "tensor([0, 1])\n",
      "Dimension of my vector is 1\n"
     ]
    }
   ],
   "source": [
    "vector = torch.tensor([0,1])\n",
    "print(vector)\n",
    "print(f\"Dimension of my vector is {vector.ndim}\")"
   ]
  },
  {
   "cell_type": "code",
   "execution_count": 4,
   "metadata": {},
   "outputs": [
    {
     "name": "stdout",
     "output_type": "stream",
     "text": [
      "tensor([[0, 1],\n",
      "        [1, 2]])\n",
      "Dimension of my vector is 2\n"
     ]
    }
   ],
   "source": [
    "vector = torch.tensor([[0,1],[1,2]])\n",
    "print(vector)\n",
    "print(f\"Dimension of my vector is {vector.ndim}\")"
   ]
  },
  {
   "cell_type": "code",
   "execution_count": 5,
   "metadata": {},
   "outputs": [
    {
     "name": "stdout",
     "output_type": "stream",
     "text": [
      "tensor([[[0, 1],\n",
      "         [1, 2],\n",
      "         [2, 3]]])\n",
      "Dimension of my vector is 3\n"
     ]
    }
   ],
   "source": [
    "tensor = torch.tensor([[[0,1],[1,2],[2,3]]])\n",
    "print(tensor)\n",
    "print(f\"Dimension of my vector is {tensor.ndim}\")"
   ]
  },
  {
   "cell_type": "code",
   "execution_count": 8,
   "metadata": {},
   "outputs": [
    {
     "name": "stdout",
     "output_type": "stream",
     "text": [
      "torch.Size([1, 3, 2])\n"
     ]
    }
   ],
   "source": [
    "print(tensor.shape)\n",
    "#Means 1 dimension of shape 3,2"
   ]
  },
  {
   "cell_type": "code",
   "execution_count": 13,
   "metadata": {},
   "outputs": [
    {
     "name": "stdout",
     "output_type": "stream",
     "text": [
      "tensor([[0, 1],\n",
      "        [1, 2],\n",
      "        [2, 3]])\n",
      "tensor([0, 1])\n",
      "tensor([2, 3])\n",
      "tensor(3)\n"
     ]
    }
   ],
   "source": [
    "print(tensor[0])\n",
    "print(tensor[0][0])\n",
    "print(tensor[0][2])\n",
    "print(tensor[0][2][1])"
   ]
  },
  {
   "cell_type": "code",
   "execution_count": null,
   "metadata": {},
   "outputs": [],
   "source": []
  }
 ],
 "metadata": {
  "kernelspec": {
   "display_name": "cv_env",
   "language": "python",
   "name": "python3"
  },
  "language_info": {
   "codemirror_mode": {
    "name": "ipython",
    "version": 3
   },
   "file_extension": ".py",
   "mimetype": "text/x-python",
   "name": "python",
   "nbconvert_exporter": "python",
   "pygments_lexer": "ipython3",
   "version": "3.11.10"
  }
 },
 "nbformat": 4,
 "nbformat_minor": 2
}
