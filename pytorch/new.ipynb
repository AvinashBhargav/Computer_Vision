{
 "cells": [
  {
   "cell_type": "code",
   "execution_count": 2,
   "metadata": {},
   "outputs": [
    {
     "name": "stdout",
     "output_type": "stream",
     "text": [
      "2.5.1\n",
      "True\n"
     ]
    }
   ],
   "source": [
    "import torch\n",
    "print(torch.__version__) \n",
    "print(torch.cuda.is_available()) \n"
   ]
  },
  {
   "cell_type": "code",
   "execution_count": 3,
   "metadata": {},
   "outputs": [
    {
     "name": "stdout",
     "output_type": "stream",
     "text": [
      "tensor([0, 1])\n",
      "Dimension of my vector is 1\n"
     ]
    }
   ],
   "source": [
    "vector = torch.tensor([0,1])\n",
    "print(vector)\n",
    "print(f\"Dimension of my vector is {vector.ndim}\")"
   ]
  },
  {
   "cell_type": "code",
   "execution_count": 4,
   "metadata": {},
   "outputs": [
    {
     "name": "stdout",
     "output_type": "stream",
     "text": [
      "tensor([[0, 1],\n",
      "        [1, 2]])\n",
      "Dimension of my vector is 2\n"
     ]
    }
   ],
   "source": [
    "vector = torch.tensor([[0,1],[1,2]])\n",
    "print(vector)\n",
    "print(f\"Dimension of my vector is {vector.ndim}\")"
   ]
  },
  {
   "cell_type": "code",
   "execution_count": 5,
   "metadata": {},
   "outputs": [
    {
     "name": "stdout",
     "output_type": "stream",
     "text": [
      "tensor([[[0, 1],\n",
      "         [1, 2],\n",
      "         [2, 3]]])\n",
      "Dimension of my vector is 3\n"
     ]
    }
   ],
   "source": [
    "tensor = torch.tensor([[[0,1],[1,2],[2,3]]])\n",
    "print(tensor)\n",
    "print(f\"Dimension of my vector is {tensor.ndim}\")"
   ]
  },
  {
   "cell_type": "code",
   "execution_count": 8,
   "metadata": {},
   "outputs": [
    {
     "name": "stdout",
     "output_type": "stream",
     "text": [
      "torch.Size([1, 3, 2])\n"
     ]
    }
   ],
   "source": [
    "print(tensor.shape)\n",
    "#Means 1 dimension of shape 3,2"
   ]
  },
  {
   "cell_type": "code",
   "execution_count": 13,
   "metadata": {},
   "outputs": [
    {
     "name": "stdout",
     "output_type": "stream",
     "text": [
      "tensor([[0, 1],\n",
      "        [1, 2],\n",
      "        [2, 3]])\n",
      "tensor([0, 1])\n",
      "tensor([2, 3])\n",
      "tensor(3)\n"
     ]
    }
   ],
   "source": [
    "print(tensor[0])\n",
    "print(tensor[0][0])\n",
    "print(tensor[0][2])\n",
    "print(tensor[0][2][1])"
   ]
  },
  {
   "cell_type": "code",
   "execution_count": 15,
   "metadata": {},
   "outputs": [
    {
     "name": "stdout",
     "output_type": "stream",
     "text": [
      "tensor([3])\n",
      "tensor(3)\n"
     ]
    }
   ],
   "source": [
    "print(tensor[:,2,1])\n",
    "print(tensor[:,2,1][0])"
   ]
  },
  {
   "cell_type": "code",
   "execution_count": 21,
   "metadata": {},
   "outputs": [
    {
     "name": "stdout",
     "output_type": "stream",
     "text": [
      "tensor([[0.3054, 0.7823, 0.3160, 0.0240],\n",
      "        [0.6513, 0.5425, 0.9215, 0.4992],\n",
      "        [0.4856, 0.4680, 0.3390, 0.3090]])\n",
      "2\n",
      "torch.Size([3, 4])\n",
      "<bound method Tensor.share_memory_ of tensor([[0.3054, 0.7823, 0.3160, 0.0240],\n",
      "        [0.6513, 0.5425, 0.9215, 0.4992],\n",
      "        [0.4856, 0.4680, 0.3390, 0.3090]])>\n"
     ]
    }
   ],
   "source": [
    "random_tensor = torch.rand(size=(3,4))\n",
    "print(random_tensor)\n",
    "print(random_tensor.ndim)\n",
    "print(random_tensor.shape)"
   ]
  },
  {
   "cell_type": "code",
   "execution_count": 27,
   "metadata": {},
   "outputs": [
    {
     "name": "stdout",
     "output_type": "stream",
     "text": [
      "tensor([[[1.8787e-01, 1.6066e-01, 4.1178e-01,  ..., 2.1017e-02,\n",
      "          4.1278e-01, 9.6698e-01],\n",
      "         [9.1676e-01, 2.3484e-04, 5.6834e-01,  ..., 7.8102e-01,\n",
      "          6.1861e-01, 7.4621e-01],\n",
      "         [1.0075e-01, 3.0306e-01, 5.3943e-02,  ..., 2.1460e-01,\n",
      "          8.7529e-01, 7.7888e-01],\n",
      "         ...,\n",
      "         [2.9463e-01, 4.3851e-01, 4.9743e-01,  ..., 8.1679e-01,\n",
      "          7.6424e-01, 5.1870e-01],\n",
      "         [5.0675e-01, 5.3916e-02, 8.0144e-01,  ..., 9.2994e-01,\n",
      "          9.5421e-01, 9.7131e-01],\n",
      "         [6.2736e-01, 7.0483e-01, 2.2597e-01,  ..., 3.0435e-01,\n",
      "          6.9888e-02, 1.6342e-01]],\n",
      "\n",
      "        [[2.9667e-01, 6.9466e-01, 5.6713e-01,  ..., 2.9190e-01,\n",
      "          5.1642e-01, 3.2142e-01],\n",
      "         [2.7551e-01, 3.1721e-01, 6.6847e-01,  ..., 2.1098e-01,\n",
      "          4.3824e-01, 2.4051e-01],\n",
      "         [7.3880e-01, 4.0995e-01, 6.7096e-01,  ..., 3.1021e-01,\n",
      "          6.8197e-01, 6.9913e-01],\n",
      "         ...,\n",
      "         [4.1831e-03, 5.4055e-01, 8.6419e-01,  ..., 5.2695e-01,\n",
      "          4.9570e-01, 8.4555e-01],\n",
      "         [8.0543e-01, 6.0342e-01, 3.9073e-02,  ..., 5.6726e-01,\n",
      "          8.7969e-01, 6.4242e-01],\n",
      "         [6.7464e-01, 5.2770e-02, 6.3889e-02,  ..., 7.3417e-01,\n",
      "          9.1240e-01, 1.8102e-01]]])\n",
      "3\n",
      "torch.Size([2, 30, 100])\n"
     ]
    }
   ],
   "source": [
    "input = 30 \n",
    "hidden = 100\n",
    "weights_tensor = torch.rand(size=(2,input, hidden))\n",
    "print(weights_tensor)\n",
    "print(weights_tensor.ndim)\n",
    "print(weights_tensor.shape)\n",
    "print(weights_tensor.im_show)"
   ]
  },
  {
   "cell_type": "code",
   "execution_count": null,
   "metadata": {},
   "outputs": [],
   "source": []
  }
 ],
 "metadata": {
  "kernelspec": {
   "display_name": "cv_env",
   "language": "python",
   "name": "python3"
  },
  "language_info": {
   "codemirror_mode": {
    "name": "ipython",
    "version": 3
   },
   "file_extension": ".py",
   "mimetype": "text/x-python",
   "name": "python",
   "nbconvert_exporter": "python",
   "pygments_lexer": "ipython3",
   "version": "3.11.10"
  }
 },
 "nbformat": 4,
 "nbformat_minor": 2
}
