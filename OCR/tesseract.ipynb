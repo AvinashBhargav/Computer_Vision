{
 "cells": [
  {
   "cell_type": "markdown",
   "metadata": {},
   "source": [
    "OCR Using TESSERACT."
   ]
  },
  {
   "cell_type": "code",
   "execution_count": 1,
   "metadata": {},
   "outputs": [],
   "source": [
    "\n",
    "import pytesseract\n",
    "from PIL import Image\n"
   ]
  },
  {
   "cell_type": "code",
   "execution_count": 5,
   "metadata": {},
   "outputs": [
    {
     "name": "stdout",
     "output_type": "stream",
     "text": [
      "Extracted Text:\n",
      "INVOICE ‘SUPPLER\n",
      "‘svkTRV\n",
      "lovoice Nos ‘Springboard Creatcty\n",
      "tnv-o0n ‘mall Yerawada, Pune.\n",
      "Bil date: Maharschtra 491006\n",
      "‘stMay 2022 pareshhpatilggmaiicom\n",
      "Due cate: ‘2076298\n",
      "‘stay 2022\n",
      "cuent\n",
      "Rohit Sharma\n",
      "cust-oo1\n",
      "rohitaswiperin\n",
      "‘7303888709\n",
      "* tem ‘SacCode Quantity _UnitPrice OST Total\n",
      "7 Converse Al Star 9999 4 70000 18% 100000\n",
      "‘Terms & conditions sus TOTAL 2000.00\n",
      "4LLocem Ipsum ie simply dummy text ofthe\n",
      "printing. wenn casta% 9000)\n",
      "2 Text ever since the 1500s, when an\n",
      "‘unknown printer took sostan 000\n",
      "‘3. Surivednotoniyfve centuries butaso Toray Dseo0o\n",
      "\n",
      "‘the eap into electronic\n",
      "4. Contrary to popular belie, Lorem ipsum is\n",
      "‘ot simpy random text\n",
      "\n",
      "‘Amount{in words): Two Thousand Three\n",
      "Hunared Sixty Rupees\n",
      "\n",
      "AMOUNT DUE\n",
      "\n",
      "2,360.00\n",
      "\n",
      "“Thank you for your purchase.\n",
      "\n",
      "aYMeNT METHOD\n",
      "Bank Transfer\n",
      "\n",
      "TRANSACTION 19\n",
      "Hooooo01s¢\n",
      "\n"
     ]
    }
   ],
   "source": [
    "\n",
    "# Provide the path to your image\n",
    "image_path = './data/april.png'\n",
    "\n",
    "# Open the image using PIL\n",
    "image = Image.open(image_path)\n",
    "\n",
    "# Use pytesseract to extract text\n",
    "extracted_text = pytesseract.image_to_string(image)\n",
    "\n",
    "# Print the extracted text\n",
    "print(\"Extracted Text:\")\n",
    "print(extracted_text)\n"
   ]
  },
  {
   "cell_type": "code",
   "execution_count": null,
   "metadata": {},
   "outputs": [
    {
     "name": "stdout",
     "output_type": "stream",
     "text": [
      "Extracted Text:\n",
      "2613.27 oO\n",
      "\n",
      "Payment of S$10 at conversion rate of 1SGD = 57.01 INR\n",
      "and 3.5% bank fee.\n",
      "\n",
      "Ay Axis Bank +++» 1234 v\n",
      "wise | Savings Account\n",
      "\n",
      "@ Activate UPI International to pay\n",
      "This is an international merchant. Activate UPI\n",
      "International to pay outside India for the next\n",
      "7 days. T&C apply.\n",
      "\n",
      "Learn more\n",
      "\n",
      "Powered by\n",
      "uP»\n",
      "\n",
      "\n"
     ]
    }
   ],
   "source": [
    "\n",
    "# Provide the path to your image\n",
    "image_path = './data/Dummy.png'\n",
    "\n",
    "# Open the image using PIL\n",
    "image = Image.open(image_path)\n",
    "\n",
    "# Use pytesseract to extract text\n",
    "extracted_text = pytesseract.image_to_string(image, lang='eng')\n",
    "\n",
    "print(\"Extracted Text:\")\n",
    "print(extracted_text)\n"
   ]
  },
  {
   "cell_type": "code",
   "execution_count": null,
   "metadata": {},
   "outputs": [
    {
     "name": "stdout",
     "output_type": "stream",
     "text": [
      "Extracted Text:\n",
      "గనులు, ఖనిజాలపై\n",
      "పార్లమెంటులో బిల్లుకు ముందే ప్రజాభిప్రాయ సేకరణ\n",
      "-లోక్‌సత్తా డిమాండ్‌-\n",
      "\n",
      "కేంద్రప్రభుత్వం కసరత్తు చేస్తున్న గనులు, ఖనిజాల బిల్లు (2010)ను పార్లమెంటులో ప్రవేశపెట్టే ముందు ప్రజాభిప్రాయ\n",
      "\"సేకరణ జరపాలని లోక్‌సత్తా పార్టీ డిమాండ్‌ చేసింది. గిరిజన ప్రాంతాల్లో తీవ్ర వ్యతిరేకత వస్తున్న దృష్ట్యా అక్కడ తవ్వకాలు\n",
      "జరిపే సందర్భంలో గిరిజనులకు ఆదాయంలో వాటా ఇస్తామని, పర్యావరణాన్ని వరిరక్షిస్తామని ప్రభుత్వం చెబుతున్న మాటలు\n",
      "మొక్కుబడిగా ఉన్నాయని... స్థానికుల, ఆందోళనలు చేస్తున్న ప్రజాసంఘాల అభిప్రాయం తీనుకుని వాటిని క్రోడీకరించి చేర్చాకే\n",
      "విల్లుకు తుదిరూపం ఇవ్వాలని పార్టీ రాష్ట్ర కార్యనిర్వాహక అధ్యక్షుడు డి.వి.వి.ఎస్‌ వర్మ గురువారం ఇక్కడ పార్టీ వ్రధాన\n",
      "కార్యాలయంలో మీడియాతో మాట్లాడుతూ స్పష్టంచేశారు. వారిక్‌ లాభాల్లో వాటాతోపాటు న్యాయబద్ధ పరిహారం, ఉపాధి\n",
      "లభించాల్సుందన్నారు. పర్యావరణానికి శాస్రీయమైనరీతిలో హామీ లభించాల్భుందని అన్నారు. మీడియా సమావేళంలో పార్టీ\n",
      "రాష్ట్ర కార్యదర్శి పి. భాస్కరరావు కూడా పాల్గొన్నారు.\n",
      "\n",
      "వర్మ మాట్లాడుతూ గనుల తవ్వకాల వల్ల కేవలం భూములు కోల్పోయినవారే కాకుండా అక్కడ సాధారణ నివాసితులు,\n",
      "కూడా తీవ్రంగా దెబ్బతింటున్నారని, అందువల్ల లోతైన రీతిలో సమస్యను అర్ధం చేసుకుని నిర్వాసితులైన వారందరికీ సరైన\n",
      "పరిహారం చెల్లించే దిశగా చర్యలు చేపట్టాల్సి ఉందని అన్నారు. ఆస్తులు లేకుండా ఆ ప్రాంతాన్ని ఖాళిచేయాల్సి వచ్చే\n",
      "నిర్వాసితుల పరిస్థితి దయనీయంగా ఉండబట్టే గనుల తవ్వకాలకు వ్యతిరేకంగా ఉద్యమాలు ఉధృతంగా\n",
      "వస్తున్నాయన్నారు... వారికి కూడా పరిహారం చెల్లించటంతోపాటు అభివృద్ధిలో భాగస్వాముల్ని చేయాలని, వారి\n",
      "కుటుంబాలకు జీవనభద్రతను కల్పించాల్సుందని అన్నారు.\n",
      "\n",
      "మరోవైవు, గనులు, ఖనిజాల తవ్వకాలను ప్రైవేటు కంపెనీలు విపరీత లాభాలు ఆర్జించేరీతిలో ధారాదత్తం చేయటం\n",
      "ఆనవాయితీగా మారిందని, జాతియ సంపదను కొల్లగొట్టే విధానాలకు సర్కారు స్వస్తిచెప్పాలని ఆయన డిమాండ్‌ చేశారు.\n",
      "ఎడాపెడా (ప్రైవేటు పందేరాలకు, తవ్వకాల్లో అక్రమాలకు అడ్డుకట్ట వేసేలా కొత్త చట్టం పటిష్టంగా రూపొందించాల్సి\n",
      "ఉందన్నారు. “ప్రజాభిప్రాయాన్ని పరిగణలోకి తీసుకోవటంతోపాటు గనుల కేటాయింపులో జాతీయ ప్రయోజనాలను\n",
      "దీర్ధకాలిక అవసరాలను దృష్టిలో పెట్టుకుని చట్టాన్ని తీసుకురావాలి” అని వర్మ అన్నారు.\n",
      "\n",
      "కలర్‌ టీవీలపై నుప్రీంకోర్డు ధర్మాసనం వ్యాఖ్యలు విచారకరం\n",
      "\n",
      "తమ రాష్ట్రంలోని 33 లక్షల కుటుంబాలకు ఉచితంగా కలర్‌ టీవీలను పంపిణీ చేయాలన్న తమిళనాడు నిర్ణయంలో\n",
      "తప్పులేదని సుప్రీంకోర్చు ధర్మాసనం చేసిన వ్యాఖ్యలు విచారకరమని వర్మ అన్నారు. ప్రజల జీవితాల్ని కాపాడటానిక్కో\n",
      "మెరుగుపరచటానికో ఉపయోగపడకుండా కేవలం వారిని ప్రలోభపెట్టటానికి మాత్రమే ఉద్దేశించిన ఇలాంట్‌ హామీల\n",
      "కోసం ఖజానా డబ్బును ఉపయోగించటం ప్రజాధనాన్ని దుర్వినియోగం చేయటమేనన్నారు. ఈరోజు కలర్‌ టీవీలతో\n",
      "ప్రారంభమై. ఎన్నికల్లో గెలిచినవారు తర్వాత బంగారు నెక్లెస్‌లు వంటి ఆశల్ని చూపవచ్చన్నారు. ప్రజలు విచక్షణతో\n",
      "ఆలోచించి ఓటువేసే అవకాశాల్ని దెబ్బతీసే డబ్బు, మద్యం పంపిణీలతోపాటు ఇలాంటి ప్రలోభాలన్నీ ఎన్నికల కోడ్‌కు\n",
      "కూడా విరుద్ధమన్నారు. ఎన్నికల కోడ్‌తో ముడిపడిన ఈ అంశంపై ఇలా బహిరంగంగా, ఆ తరహాలో సుప్రీం ధర్మాసనం\n",
      "వ్యాఖ్యలు చేయటం బాధాకరమని డి.వి.వి.ఎస్‌ వర్మ పేర్కొన్నారు.\n",
      "\n"
     ]
    }
   ],
   "source": [
    "\n",
    "# Provide the path to your image\n",
    "image_path = './data/bill.png'\n",
    "\n",
    "# Open the image using PIL\n",
    "image = Image.open(image_path)\n",
    "\n",
    "# Use pytesseract to extract text in telugu language\n",
    "extracted_text = pytesseract.image_to_string(image, lang='tel')\n",
    "\n",
    "print(\"Extracted Text:\")\n",
    "print(extracted_text)\n"
   ]
  },
  {
   "cell_type": "code",
   "execution_count": 2,
   "metadata": {},
   "outputs": [],
   "source": [
    "\n",
    "import pytesseract\n",
    "from PIL import Image\n",
    "from googletrans import Translator"
   ]
  },
  {
   "cell_type": "code",
   "execution_count": null,
   "metadata": {},
   "outputs": [
    {
     "ename": "AttributeError",
     "evalue": "'NoneType' object has no attribute 'group'",
     "output_type": "error",
     "traceback": [
      "\u001b[1;31m---------------------------------------------------------------------------\u001b[0m",
      "\u001b[1;31mAttributeError\u001b[0m                            Traceback (most recent call last)",
      "Cell \u001b[1;32mIn[3], line 14\u001b[0m\n\u001b[0;32m     11\u001b[0m translator \u001b[38;5;241m=\u001b[39m Translator()\n\u001b[0;32m     13\u001b[0m \u001b[38;5;66;03m# Translate the extracted text\u001b[39;00m\n\u001b[1;32m---> 14\u001b[0m translated_text \u001b[38;5;241m=\u001b[39m \u001b[43mtranslator\u001b[49m\u001b[38;5;241;43m.\u001b[39;49m\u001b[43mtranslate\u001b[49m\u001b[43m(\u001b[49m\u001b[43mextracted_text\u001b[49m\u001b[43m,\u001b[49m\u001b[43m \u001b[49m\u001b[43mdest\u001b[49m\u001b[38;5;241;43m=\u001b[39;49m\u001b[38;5;124;43m'\u001b[39;49m\u001b[38;5;124;43mes\u001b[39;49m\u001b[38;5;124;43m'\u001b[39;49m\u001b[43m)\u001b[49m  \u001b[38;5;66;03m# Change 'es' to desired language code\u001b[39;00m\n\u001b[0;32m     16\u001b[0m \u001b[38;5;66;03m# Display the results\u001b[39;00m\n\u001b[0;32m     17\u001b[0m \u001b[38;5;28mprint\u001b[39m(\u001b[38;5;124m\"\u001b[39m\u001b[38;5;124mExtracted Text:\u001b[39m\u001b[38;5;124m\"\u001b[39m)\n",
      "File \u001b[1;32mc:\\Users\\avina\\.conda\\envs\\cv_live\\Lib\\site-packages\\googletrans\\client.py:182\u001b[0m, in \u001b[0;36mTranslator.translate\u001b[1;34m(self, text, dest, src, **kwargs)\u001b[0m\n\u001b[0;32m    179\u001b[0m     \u001b[38;5;28;01mreturn\u001b[39;00m result\n\u001b[0;32m    181\u001b[0m origin \u001b[38;5;241m=\u001b[39m text\n\u001b[1;32m--> 182\u001b[0m data \u001b[38;5;241m=\u001b[39m \u001b[38;5;28;43mself\u001b[39;49m\u001b[38;5;241;43m.\u001b[39;49m\u001b[43m_translate\u001b[49m\u001b[43m(\u001b[49m\u001b[43mtext\u001b[49m\u001b[43m,\u001b[49m\u001b[43m \u001b[49m\u001b[43mdest\u001b[49m\u001b[43m,\u001b[49m\u001b[43m \u001b[49m\u001b[43msrc\u001b[49m\u001b[43m,\u001b[49m\u001b[43m \u001b[49m\u001b[43mkwargs\u001b[49m\u001b[43m)\u001b[49m\n\u001b[0;32m    184\u001b[0m \u001b[38;5;66;03m# this code will be updated when the format is changed.\u001b[39;00m\n\u001b[0;32m    185\u001b[0m translated \u001b[38;5;241m=\u001b[39m \u001b[38;5;124m'\u001b[39m\u001b[38;5;124m'\u001b[39m\u001b[38;5;241m.\u001b[39mjoin([d[\u001b[38;5;241m0\u001b[39m] \u001b[38;5;28;01mif\u001b[39;00m d[\u001b[38;5;241m0\u001b[39m] \u001b[38;5;28;01melse\u001b[39;00m \u001b[38;5;124m'\u001b[39m\u001b[38;5;124m'\u001b[39m \u001b[38;5;28;01mfor\u001b[39;00m d \u001b[38;5;129;01min\u001b[39;00m data[\u001b[38;5;241m0\u001b[39m]])\n",
      "File \u001b[1;32mc:\\Users\\avina\\.conda\\envs\\cv_live\\Lib\\site-packages\\googletrans\\client.py:78\u001b[0m, in \u001b[0;36mTranslator._translate\u001b[1;34m(self, text, dest, src, override)\u001b[0m\n\u001b[0;32m     77\u001b[0m \u001b[38;5;28;01mdef\u001b[39;00m \u001b[38;5;21m_translate\u001b[39m(\u001b[38;5;28mself\u001b[39m, text, dest, src, override):\n\u001b[1;32m---> 78\u001b[0m     token \u001b[38;5;241m=\u001b[39m \u001b[38;5;28;43mself\u001b[39;49m\u001b[38;5;241;43m.\u001b[39;49m\u001b[43mtoken_acquirer\u001b[49m\u001b[38;5;241;43m.\u001b[39;49m\u001b[43mdo\u001b[49m\u001b[43m(\u001b[49m\u001b[43mtext\u001b[49m\u001b[43m)\u001b[49m\n\u001b[0;32m     79\u001b[0m     params \u001b[38;5;241m=\u001b[39m utils\u001b[38;5;241m.\u001b[39mbuild_params(query\u001b[38;5;241m=\u001b[39mtext, src\u001b[38;5;241m=\u001b[39msrc, dest\u001b[38;5;241m=\u001b[39mdest,\n\u001b[0;32m     80\u001b[0m                                 token\u001b[38;5;241m=\u001b[39mtoken, override\u001b[38;5;241m=\u001b[39moverride)\n\u001b[0;32m     82\u001b[0m     url \u001b[38;5;241m=\u001b[39m urls\u001b[38;5;241m.\u001b[39mTRANSLATE\u001b[38;5;241m.\u001b[39mformat(host\u001b[38;5;241m=\u001b[39m\u001b[38;5;28mself\u001b[39m\u001b[38;5;241m.\u001b[39m_pick_service_url())\n",
      "File \u001b[1;32mc:\\Users\\avina\\.conda\\envs\\cv_live\\Lib\\site-packages\\googletrans\\gtoken.py:194\u001b[0m, in \u001b[0;36mTokenAcquirer.do\u001b[1;34m(self, text)\u001b[0m\n\u001b[0;32m    193\u001b[0m \u001b[38;5;28;01mdef\u001b[39;00m \u001b[38;5;21mdo\u001b[39m(\u001b[38;5;28mself\u001b[39m, text):\n\u001b[1;32m--> 194\u001b[0m     \u001b[38;5;28;43mself\u001b[39;49m\u001b[38;5;241;43m.\u001b[39;49m\u001b[43m_update\u001b[49m\u001b[43m(\u001b[49m\u001b[43m)\u001b[49m\n\u001b[0;32m    195\u001b[0m     tk \u001b[38;5;241m=\u001b[39m \u001b[38;5;28mself\u001b[39m\u001b[38;5;241m.\u001b[39macquire(text)\n\u001b[0;32m    196\u001b[0m     \u001b[38;5;28;01mreturn\u001b[39;00m tk\n",
      "File \u001b[1;32mc:\\Users\\avina\\.conda\\envs\\cv_live\\Lib\\site-packages\\googletrans\\gtoken.py:62\u001b[0m, in \u001b[0;36mTokenAcquirer._update\u001b[1;34m(self)\u001b[0m\n\u001b[0;32m     59\u001b[0m     \u001b[38;5;28;01mreturn\u001b[39;00m\n\u001b[0;32m     61\u001b[0m \u001b[38;5;66;03m# this will be the same as python code after stripping out a reserved word 'var'\u001b[39;00m\n\u001b[1;32m---> 62\u001b[0m code \u001b[38;5;241m=\u001b[39m \u001b[38;5;28;43mself\u001b[39;49m\u001b[38;5;241;43m.\u001b[39;49m\u001b[43mRE_TKK\u001b[49m\u001b[38;5;241;43m.\u001b[39;49m\u001b[43msearch\u001b[49m\u001b[43m(\u001b[49m\u001b[43mr\u001b[49m\u001b[38;5;241;43m.\u001b[39;49m\u001b[43mtext\u001b[49m\u001b[43m)\u001b[49m\u001b[38;5;241;43m.\u001b[39;49m\u001b[43mgroup\u001b[49m(\u001b[38;5;241m1\u001b[39m)\u001b[38;5;241m.\u001b[39mreplace(\u001b[38;5;124m'\u001b[39m\u001b[38;5;124mvar \u001b[39m\u001b[38;5;124m'\u001b[39m, \u001b[38;5;124m'\u001b[39m\u001b[38;5;124m'\u001b[39m)\n\u001b[0;32m     63\u001b[0m \u001b[38;5;66;03m# unescape special ascii characters such like a \\x3d(=)\u001b[39;00m\n\u001b[0;32m     64\u001b[0m code \u001b[38;5;241m=\u001b[39m code\u001b[38;5;241m.\u001b[39mencode()\u001b[38;5;241m.\u001b[39mdecode(\u001b[38;5;124m'\u001b[39m\u001b[38;5;124municode-escape\u001b[39m\u001b[38;5;124m'\u001b[39m)\n",
      "\u001b[1;31mAttributeError\u001b[0m: 'NoneType' object has no attribute 'group'"
     ]
    }
   ],
   "source": [
    "\n",
    "image_path = './data/bill.png'\n",
    "\n",
    "# Open the image using PIL\n",
    "image = Image.open(image_path)\n",
    "\n",
    "# Extract text using pytesseract\n",
    "extracted_text = pytesseract.image_to_string(image)\n",
    "\n",
    "# Initialize the translator\n",
    "translator = Translator()\n",
    "\n",
    "# Translate the extracted text\n",
    "translated_text = translator.translate(extracted_text, dest='es')  # Change 'es' to desired language code\n",
    "\n",
    "# Display the results\n",
    "print(\"Extracted Text:\")\n",
    "print(extracted_text)\n",
    "print(\"\\nTranslated Text:\")\n",
    "print(translated_text.text)\n"
   ]
  },
  {
   "cell_type": "code",
   "execution_count": null,
   "metadata": {},
   "outputs": [
    {
     "name": "stdout",
     "output_type": "stream",
     "text": [
      "2613.27 oO\n",
      "\n",
      "Payment of $$10 at conversion rate of 1 SGD = 57.01 INR\n",
      "and 2.5% bank fee.\n",
      "\n",
      "Ay Axis Bank +++ 1234 v\n",
      "wires Savings Account\n",
      "\n",
      "@ Activate UPI International to pay\n",
      "This is an international merchant. Activate UPI\n",
      "International to pay outside India for the next\n",
      "T days. T&C apply.\n",
      "\n",
      "Learn more\n",
      "\n",
      "Activate UPI International\n",
      "\n",
      ". Cancel\n",
      "\n",
      "Powered by\n",
      "ure\n",
      "\n",
      "\n"
     ]
    },
    {
     "ename": "",
     "evalue": "",
     "output_type": "error",
     "traceback": [
      "\u001b[1;31mThe Kernel crashed while executing code in the current cell or a previous cell. \n",
      "\u001b[1;31mPlease review the code in the cell(s) to identify a possible cause of the failure. \n",
      "\u001b[1;31mClick <a href='https://aka.ms/vscodeJupyterKernelCrash'>here</a> for more info. \n",
      "\u001b[1;31mView Jupyter <a href='command:jupyter.viewOutput'>log</a> for further details."
     ]
    }
   ],
   "source": [
    "import cv2\n",
    "import pytesseract\n",
    "\n",
    "def extract_text_from_image(image_path):\n",
    "    img = cv2.imread(image_path)\n",
    "    gray = cv2.cvtColor(img, cv2.COLOR_BGR2GRAY)\n",
    "    thresh = cv2.threshold(gray, 0, 255, cv2.THRESH_BINARY_INV + cv2.THRESH_OTSU)[1]\n",
    "\n",
    "    text = pytesseract.image_to_string(thresh)\n",
    "    return text\n",
    "\n",
    "# Example usage:\n",
    "image_path = \"./data/Dummy.png\"\n",
    "extracted_text = extract_text_from_image(image_path)\n",
    "print(extracted_text)"
   ]
  }
 ],
 "metadata": {
  "kernelspec": {
   "display_name": "cv_live",
   "language": "python",
   "name": "python3"
  },
  "language_info": {
   "codemirror_mode": {
    "name": "ipython",
    "version": 3
   },
   "file_extension": ".py",
   "mimetype": "text/x-python",
   "name": "python",
   "nbconvert_exporter": "python",
   "pygments_lexer": "ipython3",
   "version": "3.11.10"
  }
 },
 "nbformat": 4,
 "nbformat_minor": 2
}
