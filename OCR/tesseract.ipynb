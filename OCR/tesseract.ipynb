{
 "cells": [
  {
   "cell_type": "markdown",
   "metadata": {},
   "source": [
    "OCR Using TESSERACT."
   ]
  },
  {
   "cell_type": "code",
   "execution_count": 1,
   "metadata": {},
   "outputs": [],
   "source": [
    "\n",
    "import pytesseract\n",
    "from PIL import Image\n"
   ]
  },
  {
   "cell_type": "code",
   "execution_count": 5,
   "metadata": {},
   "outputs": [
    {
     "name": "stdout",
     "output_type": "stream",
     "text": [
      "Extracted Text:\n",
      "INVOICE ‘SUPPLER\n",
      "‘svkTRV\n",
      "lovoice Nos ‘Springboard Creatcty\n",
      "tnv-o0n ‘mall Yerawada, Pune.\n",
      "Bil date: Maharschtra 491006\n",
      "‘stMay 2022 pareshhpatilggmaiicom\n",
      "Due cate: ‘2076298\n",
      "‘stay 2022\n",
      "cuent\n",
      "Rohit Sharma\n",
      "cust-oo1\n",
      "rohitaswiperin\n",
      "‘7303888709\n",
      "* tem ‘SacCode Quantity _UnitPrice OST Total\n",
      "7 Converse Al Star 9999 4 70000 18% 100000\n",
      "‘Terms & conditions sus TOTAL 2000.00\n",
      "4LLocem Ipsum ie simply dummy text ofthe\n",
      "printing. wenn casta% 9000)\n",
      "2 Text ever since the 1500s, when an\n",
      "‘unknown printer took sostan 000\n",
      "‘3. Surivednotoniyfve centuries butaso Toray Dseo0o\n",
      "\n",
      "‘the eap into electronic\n",
      "4. Contrary to popular belie, Lorem ipsum is\n",
      "‘ot simpy random text\n",
      "\n",
      "‘Amount{in words): Two Thousand Three\n",
      "Hunared Sixty Rupees\n",
      "\n",
      "AMOUNT DUE\n",
      "\n",
      "2,360.00\n",
      "\n",
      "“Thank you for your purchase.\n",
      "\n",
      "aYMeNT METHOD\n",
      "Bank Transfer\n",
      "\n",
      "TRANSACTION 19\n",
      "Hooooo01s¢\n",
      "\n"
     ]
    }
   ],
   "source": [
    "\n",
    "# Provide the path to your image\n",
    "image_path = './data/april.png'\n",
    "\n",
    "# Open the image using PIL\n",
    "image = Image.open(image_path)\n",
    "\n",
    "# Use pytesseract to extract text\n",
    "extracted_text = pytesseract.image_to_string(image)\n",
    "\n",
    "# Print the extracted text\n",
    "print(\"Extracted Text:\")\n",
    "print(extracted_text)\n"
   ]
  }
 ],
 "metadata": {
  "kernelspec": {
   "display_name": "cv_live",
   "language": "python",
   "name": "python3"
  },
  "language_info": {
   "codemirror_mode": {
    "name": "ipython",
    "version": 3
   },
   "file_extension": ".py",
   "mimetype": "text/x-python",
   "name": "python",
   "nbconvert_exporter": "python",
   "pygments_lexer": "ipython3",
   "version": "3.11.10"
  }
 },
 "nbformat": 4,
 "nbformat_minor": 2
}
