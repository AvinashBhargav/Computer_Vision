{
 "cells": [
  {
   "cell_type": "markdown",
   "metadata": {},
   "source": [
    "OCR Using TESSERACT."
   ]
  },
  {
   "cell_type": "code",
   "execution_count": 1,
   "metadata": {},
   "outputs": [],
   "source": [
    "\n",
    "import pytesseract\n",
    "from PIL import Image\n"
   ]
  },
  {
   "cell_type": "code",
   "execution_count": 5,
   "metadata": {},
   "outputs": [
    {
     "name": "stdout",
     "output_type": "stream",
     "text": [
      "Extracted Text:\n",
      "INVOICE ‘SUPPLER\n",
      "‘svkTRV\n",
      "lovoice Nos ‘Springboard Creatcty\n",
      "tnv-o0n ‘mall Yerawada, Pune.\n",
      "Bil date: Maharschtra 491006\n",
      "‘stMay 2022 pareshhpatilggmaiicom\n",
      "Due cate: ‘2076298\n",
      "‘stay 2022\n",
      "cuent\n",
      "Rohit Sharma\n",
      "cust-oo1\n",
      "rohitaswiperin\n",
      "‘7303888709\n",
      "* tem ‘SacCode Quantity _UnitPrice OST Total\n",
      "7 Converse Al Star 9999 4 70000 18% 100000\n",
      "‘Terms & conditions sus TOTAL 2000.00\n",
      "4LLocem Ipsum ie simply dummy text ofthe\n",
      "printing. wenn casta% 9000)\n",
      "2 Text ever since the 1500s, when an\n",
      "‘unknown printer took sostan 000\n",
      "‘3. Surivednotoniyfve centuries butaso Toray Dseo0o\n",
      "\n",
      "‘the eap into electronic\n",
      "4. Contrary to popular belie, Lorem ipsum is\n",
      "‘ot simpy random text\n",
      "\n",
      "‘Amount{in words): Two Thousand Three\n",
      "Hunared Sixty Rupees\n",
      "\n",
      "AMOUNT DUE\n",
      "\n",
      "2,360.00\n",
      "\n",
      "“Thank you for your purchase.\n",
      "\n",
      "aYMeNT METHOD\n",
      "Bank Transfer\n",
      "\n",
      "TRANSACTION 19\n",
      "Hooooo01s¢\n",
      "\n"
     ]
    }
   ],
   "source": [
    "\n",
    "# Provide the path to your image\n",
    "image_path = './data/april.png'\n",
    "\n",
    "# Open the image using PIL\n",
    "image = Image.open(image_path)\n",
    "\n",
    "# Use pytesseract to extract text\n",
    "extracted_text = pytesseract.image_to_string(image)\n",
    "\n",
    "# Print the extracted text\n",
    "print(\"Extracted Text:\")\n",
    "print(extracted_text)\n"
   ]
  },
  {
   "cell_type": "code",
   "execution_count": null,
   "metadata": {},
   "outputs": [
    {
     "name": "stdout",
     "output_type": "stream",
     "text": [
      "Extracted Text:\n",
      "2613.27 oO\n",
      "\n",
      "Payment of S$10 at conversion rate of 1SGD = 57.01 INR\n",
      "and 3.5% bank fee.\n",
      "\n",
      "Ay Axis Bank +++» 1234 v\n",
      "wise | Savings Account\n",
      "\n",
      "@ Activate UPI International to pay\n",
      "This is an international merchant. Activate UPI\n",
      "International to pay outside India for the next\n",
      "7 days. T&C apply.\n",
      "\n",
      "Learn more\n",
      "\n",
      "Powered by\n",
      "uP»\n",
      "\n",
      "\n"
     ]
    }
   ],
   "source": [
    "\n",
    "# Provide the path to your image\n",
    "image_path = './data/Dummy.png'\n",
    "\n",
    "# Open the image using PIL\n",
    "image = Image.open(image_path)\n",
    "\n",
    "# Use pytesseract to extract text\n",
    "extracted_text = pytesseract.image_to_string(image, lang='eng')\n",
    "\n",
    "print(\"Extracted Text:\")\n",
    "print(extracted_text)\n"
   ]
  },
  {
   "cell_type": "code",
   "execution_count": null,
   "metadata": {},
   "outputs": [
    {
     "name": "stdout",
     "output_type": "stream",
     "text": [
      "Extracted Text:\n",
      "గనులు, ఖనిజాలపై\n",
      "పార్లమెంటులో బిల్లుకు ముందే ప్రజాభిప్రాయ సేకరణ\n",
      "-లోక్‌సత్తా డిమాండ్‌-\n",
      "\n",
      "కేంద్రప్రభుత్వం కసరత్తు చేస్తున్న గనులు, ఖనిజాల బిల్లు (2010)ను పార్లమెంటులో ప్రవేశపెట్టే ముందు ప్రజాభిప్రాయ\n",
      "\"సేకరణ జరపాలని లోక్‌సత్తా పార్టీ డిమాండ్‌ చేసింది. గిరిజన ప్రాంతాల్లో తీవ్ర వ్యతిరేకత వస్తున్న దృష్ట్యా అక్కడ తవ్వకాలు\n",
      "జరిపే సందర్భంలో గిరిజనులకు ఆదాయంలో వాటా ఇస్తామని, పర్యావరణాన్ని వరిరక్షిస్తామని ప్రభుత్వం చెబుతున్న మాటలు\n",
      "మొక్కుబడిగా ఉన్నాయని... స్థానికుల, ఆందోళనలు చేస్తున్న ప్రజాసంఘాల అభిప్రాయం తీనుకుని వాటిని క్రోడీకరించి చేర్చాకే\n",
      "విల్లుకు తుదిరూపం ఇవ్వాలని పార్టీ రాష్ట్ర కార్యనిర్వాహక అధ్యక్షుడు డి.వి.వి.ఎస్‌ వర్మ గురువారం ఇక్కడ పార్టీ వ్రధాన\n",
      "కార్యాలయంలో మీడియాతో మాట్లాడుతూ స్పష్టంచేశారు. వారిక్‌ లాభాల్లో వాటాతోపాటు న్యాయబద్ధ పరిహారం, ఉపాధి\n",
      "లభించాల్సుందన్నారు. పర్యావరణానికి శాస్రీయమైనరీతిలో హామీ లభించాల్భుందని అన్నారు. మీడియా సమావేళంలో పార్టీ\n",
      "రాష్ట్ర కార్యదర్శి పి. భాస్కరరావు కూడా పాల్గొన్నారు.\n",
      "\n",
      "వర్మ మాట్లాడుతూ గనుల తవ్వకాల వల్ల కేవలం భూములు కోల్పోయినవారే కాకుండా అక్కడ సాధారణ నివాసితులు,\n",
      "కూడా తీవ్రంగా దెబ్బతింటున్నారని, అందువల్ల లోతైన రీతిలో సమస్యను అర్ధం చేసుకుని నిర్వాసితులైన వారందరికీ సరైన\n",
      "పరిహారం చెల్లించే దిశగా చర్యలు చేపట్టాల్సి ఉందని అన్నారు. ఆస్తులు లేకుండా ఆ ప్రాంతాన్ని ఖాళిచేయాల్సి వచ్చే\n",
      "నిర్వాసితుల పరిస్థితి దయనీయంగా ఉండబట్టే గనుల తవ్వకాలకు వ్యతిరేకంగా ఉద్యమాలు ఉధృతంగా\n",
      "వస్తున్నాయన్నారు... వారికి కూడా పరిహారం చెల్లించటంతోపాటు అభివృద్ధిలో భాగస్వాముల్ని చేయాలని, వారి\n",
      "కుటుంబాలకు జీవనభద్రతను కల్పించాల్సుందని అన్నారు.\n",
      "\n",
      "మరోవైవు, గనులు, ఖనిజాల తవ్వకాలను ప్రైవేటు కంపెనీలు విపరీత లాభాలు ఆర్జించేరీతిలో ధారాదత్తం చేయటం\n",
      "ఆనవాయితీగా మారిందని, జాతియ సంపదను కొల్లగొట్టే విధానాలకు సర్కారు స్వస్తిచెప్పాలని ఆయన డిమాండ్‌ చేశారు.\n",
      "ఎడాపెడా (ప్రైవేటు పందేరాలకు, తవ్వకాల్లో అక్రమాలకు అడ్డుకట్ట వేసేలా కొత్త చట్టం పటిష్టంగా రూపొందించాల్సి\n",
      "ఉందన్నారు. “ప్రజాభిప్రాయాన్ని పరిగణలోకి తీసుకోవటంతోపాటు గనుల కేటాయింపులో జాతీయ ప్రయోజనాలను\n",
      "దీర్ధకాలిక అవసరాలను దృష్టిలో పెట్టుకుని చట్టాన్ని తీసుకురావాలి” అని వర్మ అన్నారు.\n",
      "\n",
      "కలర్‌ టీవీలపై నుప్రీంకోర్డు ధర్మాసనం వ్యాఖ్యలు విచారకరం\n",
      "\n",
      "తమ రాష్ట్రంలోని 33 లక్షల కుటుంబాలకు ఉచితంగా కలర్‌ టీవీలను పంపిణీ చేయాలన్న తమిళనాడు నిర్ణయంలో\n",
      "తప్పులేదని సుప్రీంకోర్చు ధర్మాసనం చేసిన వ్యాఖ్యలు విచారకరమని వర్మ అన్నారు. ప్రజల జీవితాల్ని కాపాడటానిక్కో\n",
      "మెరుగుపరచటానికో ఉపయోగపడకుండా కేవలం వారిని ప్రలోభపెట్టటానికి మాత్రమే ఉద్దేశించిన ఇలాంట్‌ హామీల\n",
      "కోసం ఖజానా డబ్బును ఉపయోగించటం ప్రజాధనాన్ని దుర్వినియోగం చేయటమేనన్నారు. ఈరోజు కలర్‌ టీవీలతో\n",
      "ప్రారంభమై. ఎన్నికల్లో గెలిచినవారు తర్వాత బంగారు నెక్లెస్‌లు వంటి ఆశల్ని చూపవచ్చన్నారు. ప్రజలు విచక్షణతో\n",
      "ఆలోచించి ఓటువేసే అవకాశాల్ని దెబ్బతీసే డబ్బు, మద్యం పంపిణీలతోపాటు ఇలాంటి ప్రలోభాలన్నీ ఎన్నికల కోడ్‌కు\n",
      "కూడా విరుద్ధమన్నారు. ఎన్నికల కోడ్‌తో ముడిపడిన ఈ అంశంపై ఇలా బహిరంగంగా, ఆ తరహాలో సుప్రీం ధర్మాసనం\n",
      "వ్యాఖ్యలు చేయటం బాధాకరమని డి.వి.వి.ఎస్‌ వర్మ పేర్కొన్నారు.\n",
      "\n"
     ]
    }
   ],
   "source": [
    "\n",
    "# Provide the path to your image\n",
    "image_path = './data/bill.png'\n",
    "\n",
    "# Open the image using PIL\n",
    "image = Image.open(image_path)\n",
    "\n",
    "# Use pytesseract to extract text in telugu language\n",
    "extracted_text = pytesseract.image_to_string(image, lang='tel')\n",
    "\n",
    "print(\"Extracted Text:\")\n",
    "print(extracted_text)\n"
   ]
  }
 ],
 "metadata": {
  "kernelspec": {
   "display_name": "cv_live",
   "language": "python",
   "name": "python3"
  },
  "language_info": {
   "codemirror_mode": {
    "name": "ipython",
    "version": 3
   },
   "file_extension": ".py",
   "mimetype": "text/x-python",
   "name": "python",
   "nbconvert_exporter": "python",
   "pygments_lexer": "ipython3",
   "version": "3.11.10"
  }
 },
 "nbformat": 4,
 "nbformat_minor": 2
}
