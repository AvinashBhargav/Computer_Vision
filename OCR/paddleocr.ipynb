{
 "cells": [
  {
   "cell_type": "code",
   "execution_count": 3,
   "metadata": {},
   "outputs": [
    {
     "name": "stdout",
     "output_type": "stream",
     "text": [
      "[2024/12/11 11:50:59] ppocr DEBUG: Namespace(help='==SUPPRESS==', use_gpu=False, use_xpu=False, use_npu=False, use_mlu=False, ir_optim=True, use_tensorrt=False, min_subgraph_size=15, precision='fp32', gpu_mem=500, gpu_id=0, image_dir=None, page_num=0, det_algorithm='DB', det_model_dir='C:\\\\Users\\\\AB/.paddleocr/whl\\\\det\\\\en\\\\en_PP-OCRv3_det_infer', det_limit_side_len=960, det_limit_type='max', det_box_type='quad', det_db_thresh=0.3, det_db_box_thresh=0.6, det_db_unclip_ratio=1.5, max_batch_size=10, use_dilation=False, det_db_score_mode='fast', det_east_score_thresh=0.8, det_east_cover_thresh=0.1, det_east_nms_thresh=0.2, det_sast_score_thresh=0.5, det_sast_nms_thresh=0.2, det_pse_thresh=0, det_pse_box_thresh=0.85, det_pse_min_area=16, det_pse_scale=1, scales=[8, 16, 32], alpha=1.0, beta=1.0, fourier_degree=5, rec_algorithm='SVTR_LCNet', rec_model_dir='C:\\\\Users\\\\AB/.paddleocr/whl\\\\rec\\\\en\\\\en_PP-OCRv4_rec_infer', rec_image_inverse=True, rec_image_shape='3, 48, 320', rec_batch_num=6, max_text_length=25, rec_char_dict_path='c:\\\\Users\\\\AB\\\\.conda\\\\envs\\\\cv_env\\\\Lib\\\\site-packages\\\\paddleocr\\\\ppocr\\\\utils\\\\en_dict.txt', use_space_char=True, vis_font_path='./doc/fonts/simfang.ttf', drop_score=0.5, e2e_algorithm='PGNet', e2e_model_dir=None, e2e_limit_side_len=768, e2e_limit_type='max', e2e_pgnet_score_thresh=0.5, e2e_char_dict_path='./ppocr/utils/ic15_dict.txt', e2e_pgnet_valid_set='totaltext', e2e_pgnet_mode='fast', use_angle_cls=False, cls_model_dir='C:\\\\Users\\\\AB/.paddleocr/whl\\\\cls\\\\ch_ppocr_mobile_v2.0_cls_infer', cls_image_shape='3, 48, 192', label_list=['0', '180'], cls_batch_num=6, cls_thresh=0.9, enable_mkldnn=False, cpu_threads=10, use_pdserving=False, warmup=False, sr_model_dir=None, sr_image_shape='3, 32, 128', sr_batch_num=1, draw_img_save_dir='./inference_results', save_crop_res=False, crop_res_save_dir='./output', use_mp=False, total_process_num=1, process_id=0, benchmark=False, save_log_path='./log_output/', show_log=True, use_onnx=False, return_word_box=False, output='./output', table_max_len=488, table_algorithm='TableAttn', table_model_dir=None, merge_no_span_structure=True, table_char_dict_path=None, formula_algorithm='LaTeXOCR', formula_model_dir=None, formula_char_dict_path=None, formula_batch_num=1, layout_model_dir=None, layout_dict_path=None, layout_score_threshold=0.5, layout_nms_threshold=0.5, kie_algorithm='LayoutXLM', ser_model_dir=None, re_model_dir=None, use_visual_backbone=True, ser_dict_path='../train_data/XFUND/class_list_xfun.txt', ocr_order_method=None, mode='structure', image_orientation=False, layout=True, table=True, formula=False, ocr=True, recovery=False, recovery_to_markdown=False, use_pdf2docx_api=False, invert=False, binarize=False, alphacolor=(255, 255, 255), lang='en', det=True, rec=True, type='ocr', savefile=False, ocr_version='PP-OCRv4', structure_version='PP-StructureV2', use_angle_classifier=True)\n",
      "[2024/12/11 11:51:00] ppocr WARNING: Since the angle classifier is not initialized, it will not be used during the forward process\n",
      "[2024/12/11 11:51:01] ppocr DEBUG: dt_boxes num : 60, elapsed : 0.23191165924072266\n",
      "[2024/12/11 11:51:02] ppocr DEBUG: rec_res num  : 60, elapsed : 1.2478199005126953\n",
      "('INVOICE', 0.9979914426803589)\n",
      "('SUPPLIER', 0.9945504665374756)\n",
      "('Invoice No:', 0.9983493685722351)\n",
      "('SVk TRV', 0.9994538426399231)\n",
      "('INV-001', 0.9777798056602478)\n",
      "('91 Springboard, Creaticity', 0.9950202703475952)\n",
      "('Bill date:', 0.9508472681045532)\n",
      "('mall, Yerawada, Pune,', 0.9638959765434265)\n",
      "('Maharashtra 411006', 0.9949994683265686)\n",
      "('31May 2022', 0.9976585507392883)\n",
      "('pareshhpatil@gmail.com', 0.9983640909194946)\n",
      "('Due date:', 0.9991281032562256)\n",
      "('31 May 2022', 0.9613468050956726)\n",
      "('9307691293', 0.9997390508651733)\n",
      "('CLIENT', 0.9975544810295105)\n",
      "('Rohit Sharma', 0.9986532330513)\n",
      "('CUST-001', 0.9886987209320068)\n",
      "('rohit@swipez.in', 0.9995952844619751)\n",
      "('7303885709', 0.9996109008789062)\n",
      "('Item', 0.9990073442459106)\n",
      "('Sac Code', 0.9988802671432495)\n",
      "('Quantity', 0.9968162178993225)\n",
      "('Unit Price', 0.9999204874038696)\n",
      "('GST', 0.9617743492126465)\n",
      "('Total', 0.9992719888687134)\n",
      "('Converse All Star', 0.9962549805641174)\n",
      "('9999', 0.9993880391120911)\n",
      "('7', 0.9435459971427917)\n",
      "('1000.00', 0.9990204572677612)\n",
      "('18%', 0.9273638129234314)\n",
      "('1000.00', 0.9994049668312073)\n",
      "('Terms & conditions', 0.9723047614097595)\n",
      "('SUB TOTAL', 0.9972513914108276)\n",
      "('2000.00', 0.9995862245559692)\n",
      "('1. Lorem Ipsum is simply dummy text of the', 0.9890365600585938)\n",
      "('printing.', 0.9890245795249939)\n",
      "('CGST@9%', 0.9952124357223511)\n",
      "('90.00', 0.9981131553649902)\n",
      "('2. Text ever since the 1500s, when an', 0.9808120727539062)\n",
      "('unknown printer took.', 0.9984703063964844)\n",
      "('SGST@9%', 0.999184250831604)\n",
      "('90.00', 0.9988948702812195)\n",
      "('3. Survived not only five centuries, but also', 0.9834915399551392)\n",
      "('TOTAL', 0.9986894726753235)\n",
      "('2,360.00', 0.9706395268440247)\n",
      "('the leap into electronic', 0.9943721890449524)\n",
      "('4. Contrary to popular belief, Lorem Ipsum is', 0.9976727962493896)\n",
      "('not simply random text', 0.9838988780975342)\n",
      "('Amount(in words) : Two Thousand Three', 0.9878759384155273)\n",
      "('Hundred Sixty Rupees', 0.9977383613586426)\n",
      "(' DUE DATE', 0.9819626212120056)\n",
      "('31 May 2022', 0.9987813830375671)\n",
      "('AMOUNT DUE', 0.9888741374015808)\n",
      "('2,360.00', 0.9986594319343567)\n",
      "('Thank you for your purchase', 0.9903838634490967)\n",
      "(' PAYMENT METHOD', 0.9673846364021301)\n",
      "('Bank Transfer', 0.9997266530990601)\n",
      "('TRANSACTION ID', 0.995294451713562)\n",
      "('H000000154', 0.9693772196769714)\n"
     ]
    }
   ],
   "source": [
    "import paddleocr\n",
    "ocr = paddleocr.PaddleOCR(use_angle_classifier=True, lang='en')\n",
    "\n",
    "# Specify the image path\n",
    "img_path = './data/april.png'\n",
    "\n",
    "# Perform OCR\n",
    "result = ocr.ocr(img_path, det=True)\n",
    "\n",
    "# Print the recognized text\n",
    "for line in result:\n",
    "    for box in line:\n",
    "        print(box[-1])"
   ]
  },
  {
   "cell_type": "code",
   "execution_count": null,
   "metadata": {},
   "outputs": [],
   "source": []
  }
 ],
 "metadata": {
  "kernelspec": {
   "display_name": "cv_env",
   "language": "python",
   "name": "python3"
  },
  "language_info": {
   "codemirror_mode": {
    "name": "ipython",
    "version": 3
   },
   "file_extension": ".py",
   "mimetype": "text/x-python",
   "name": "python",
   "nbconvert_exporter": "python",
   "pygments_lexer": "ipython3",
   "version": "3.11.10"
  }
 },
 "nbformat": 4,
 "nbformat_minor": 2
}
